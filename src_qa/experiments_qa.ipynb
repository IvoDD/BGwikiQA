{
 "cells": [
  {
   "cell_type": "code",
   "execution_count": 9,
   "metadata": {},
   "outputs": [],
   "source": [
    "import xml.etree.ElementTree as ET\n",
    "tree = ET.parse('../bgwiki-20200201-pages-articles.xml').getroot()"
   ]
  },
  {
   "cell_type": "code",
   "execution_count": 10,
   "metadata": {},
   "outputs": [
    {
     "ename": "AttributeError",
     "evalue": "'NoneType' object has no attribute 'attrib'",
     "output_type": "error",
     "traceback": [
      "\u001b[0;31m---------------------------------------------------------------------------\u001b[0m",
      "\u001b[0;31mAttributeError\u001b[0m                            Traceback (most recent call last)",
      "\u001b[0;32m<ipython-input-10-c4c933fe6779>\u001b[0m in \u001b[0;36m<module>\u001b[0;34m\u001b[0m\n\u001b[1;32m      2\u001b[0m \u001b[0;34m\u001b[0m\u001b[0m\n\u001b[1;32m      3\u001b[0m \u001b[0marticle1\u001b[0m \u001b[0;34m=\u001b[0m \u001b[0mtree\u001b[0m\u001b[0;34m.\u001b[0m\u001b[0mfind\u001b[0m\u001b[0;34m(\u001b[0m\u001b[0;34m'./article[@name=\"Птицечовка\"]'\u001b[0m\u001b[0;34m)\u001b[0m\u001b[0;34m\u001b[0m\u001b[0;34m\u001b[0m\u001b[0m\n\u001b[0;32m----> 4\u001b[0;31m \u001b[0mprint\u001b[0m\u001b[0;34m(\u001b[0m\u001b[0marticle1\u001b[0m\u001b[0;34m.\u001b[0m\u001b[0mattrib\u001b[0m\u001b[0;34m)\u001b[0m\u001b[0;34m\u001b[0m\u001b[0;34m\u001b[0m\u001b[0m\n\u001b[0m\u001b[1;32m      5\u001b[0m \u001b[0;34m\u001b[0m\u001b[0m\n\u001b[1;32m      6\u001b[0m \u001b[0marticle2\u001b[0m \u001b[0;34m=\u001b[0m \u001b[0mtree\u001b[0m\u001b[0;34m.\u001b[0m\u001b[0mfind\u001b[0m\u001b[0;34m(\u001b[0m\u001b[0;34m'./article[@name=\"Бозайници\"]'\u001b[0m\u001b[0;34m)\u001b[0m\u001b[0;34m\u001b[0m\u001b[0;34m\u001b[0m\u001b[0m\n",
      "\u001b[0;31mAttributeError\u001b[0m: 'NoneType' object has no attribute 'attrib'"
     ]
    }
   ],
   "source": [
    "import pickle\n",
    "\n",
    "article1 = tree.find('./article[@name=\"Птицечовка\"]')\n",
    "print(article1.attrib)\n",
    "\n",
    "article2 = tree.find('./article[@name=\"Бозайници\"]')\n",
    "print(article2.attrib)\n",
    "\n",
    "# with open(\"test_articles.pickle\", \"wb\") as file:\n",
    "#     pickle.dump((article1, article2), file)"
   ]
  },
  {
   "cell_type": "code",
   "execution_count": 13,
   "metadata": {},
   "outputs": [
    {
     "name": "stdout",
     "output_type": "stream",
     "text": [
      "<Element '{http://www.mediawiki.org/xml/export-0.10/}sitename' at 0x7f6ce614de30>\n",
      "<Element '{http://www.mediawiki.org/xml/export-0.10/}dbname' at 0x7f6ce614def0>\n",
      "<Element '{http://www.mediawiki.org/xml/export-0.10/}base' at 0x7f6ce614dfb0>\n",
      "<Element '{http://www.mediawiki.org/xml/export-0.10/}generator' at 0x7f6ce62250b0>\n",
      "<Element '{http://www.mediawiki.org/xml/export-0.10/}case' at 0x7f6ce6225170>\n",
      "<Element '{http://www.mediawiki.org/xml/export-0.10/}namespaces' at 0x7f6ce6225230>\n"
     ]
    }
   ],
   "source": [
    "for x in tree[0]:\n",
    "    print(x)"
   ]
  },
  {
   "cell_type": "code",
   "execution_count": 3,
   "metadata": {},
   "outputs": [],
   "source": [
    "import pickle\n",
    "with open(\"test_articles.pickle\", \"rb\") as file:\n",
    "    article1, article2 = pickle.load(file)"
   ]
  },
  {
   "cell_type": "code",
   "execution_count": 4,
   "metadata": {},
   "outputs": [
    {
     "name": "stdout",
     "output_type": "stream",
     "text": [
      "[('Птицечовката (Ornithorhynchus anatinus) е малък плаващ бозайник. ', 3.12), ('Човката не е като на птиците, а е сравнително мека и чувствителна. ', 1.3), ('Птицечовката е единственият оцелял представител на семейство Птицечовкови (Ornithorhynchidae) и на рода Птицечовки (Ornithorhynchus). ', 1.3), ('Отровна, снасяща яйца и с човка, тя е смятана за един от най-странните видове бозайници.', 1.3), ('На сушата обаче е тромава и мъчноподвижна. ', 1.3), ('Жилището е разположено в стръмните брегове, а главният вход се намира под водата. ', 1.3), ('Дължината на тялото е 60 см, като мъжките са малко по-големи от женските. ', 1.3), ('Във водата птицечовката е в стихията си. ', 1.3), ('Размерите на бозайниците варират значително, като най-дребният вид е етруската белозъбка (Suncus etruscus) с дължина до 48 mm и маса до 2,34 g, а най-едрият\\xa0– синият кит (Balaenoptera musculus) достигащ 33 m дължина и 150 t маса.', 1.2), ('Притежават козина, топлокръвни са, дишат с бял дроб, централната им нервна система е с най-висока степен на развитие. ', 1.2)]\n"
     ]
    }
   ],
   "source": [
    "from qa import QA\n",
    "qa = QA()\n",
    "ans = qa.query_simple(\"Какво е бозайник\", [article1, article2], [1, 1])\n",
    "print(ans)"
   ]
  },
  {
   "cell_type": "code",
   "execution_count": 5,
   "metadata": {},
   "outputs": [
    {
     "name": "stdout",
     "output_type": "stream",
     "text": [
      "бозайни\n",
      "бозайни\n"
     ]
    }
   ],
   "source": [
    "from stemmer import stemmer\n",
    "\n",
    "print(stemmer.stem(\"бозайници\"))\n",
    "print(stemmer.stem(\"бозайник\"))"
   ]
  },
  {
   "cell_type": "code",
   "execution_count": 6,
   "metadata": {},
   "outputs": [
    {
     "name": "stdout",
     "output_type": "stream",
     "text": [
      "[('Водните бозайници се срещат във всички части на водоемите, а пустините се обитават от видове приспособени за живот с минимална загуба на вода. ', 13.81237683628784), ('Някои други видове (двуутробни, гризачи и други) са адаптирани за планиране, като тази форма на придвижване често е в съчетание с приспособеност за катерене по дърветата.', 11.738765849825146), ('Бозайниците (Mammalia) са най-висшият клас гръбначни животни. ', 10.737351374890673), ('Всичко това улеснява приспособителните реакции и дава възможност на бозайниците да населяват най-различни биотопи\\xa0– на земната повърхност (лъв, заек), в земята (къртици), във водата (делфини, китове) и във въздуха (прилепи).', 10.213635043851042), ('Бозайниците са над 5 000 вида обединени в 425 семейства и 25 разреда. ', 10.13151478058498), ('Отровна, снасяща яйца и с човка, тя е смятана за един от най-странните видове бозайници.', 8.947792812408894), ('Така бозайниците са се превърнали в господстваща група животни на Земята.', 8.442928983820817), ('Според съвременните молекулярни изследвания на филогенията, повечето разреди плацентни бозайници са се формирали преди 100 до 65 милиона години, а сега съществуващите семейства\\xa0– в късния еоцен и ранния миоцен.', 8.442928983820817), ('Ровещите бозайници са приспособени за живот в почвата, където прокопават сложни системи от тунели. ', 8.442928983820817), ('Прилепи обитават дълбоки пещери и далечни острови, където сухоземните бозайници не са достигнали. ', 8.442928983820817)]\n"
     ]
    }
   ],
   "source": [
    "from qa import QA\n",
    "qa = QA()\n",
    "ans = qa.query_adv_word_match(\"Къде най-често се срещат бозайници\", [article1, article2], [1, 1])\n",
    "print(ans)"
   ]
  },
  {
   "cell_type": "code",
   "execution_count": 7,
   "metadata": {},
   "outputs": [
    {
     "data": {
      "text/plain": [
       "140"
      ]
     },
     "execution_count": 7,
     "metadata": {},
     "output_type": "execute_result"
    }
   ],
   "source": [
    "from hungarian import hungarian\n",
    "import numpy as np\n",
    "matr = np.array([\n",
    "    [82, 83, 69, 100, 92],\n",
    "    [77, 37, 49, 100, 92],\n",
    "    [11, 69, 5, 100, 86],\n",
    "    [8, 9, 98, 100, 23]\n",
    "])\n",
    "hungarian(matr)"
   ]
  },
  {
   "cell_type": "code",
   "execution_count": 8,
   "metadata": {},
   "outputs": [
    {
     "name": "stdout",
     "output_type": "stream",
     "text": [
      "[('Водните бозайници се срещат във всички части на водоемите, а пустините се обитават от видове приспособени за живот с минимална загуба на вода. ', -6.907344102859497), ('Отровна, снасяща яйца и с човка, тя е смятана за един от най-странните видове бозайници.', -10.200244463407076), ('Според съвременните молекулярни изследвания на филогенията, повечето разреди плацентни бозайници са се формирали преди 100 до 65 милиона години, а сега съществуващите семейства\\xa0– в късния еоцен и ранния миоцен.', -11.153120994567871), ('Групата на живородните бозайници (Theria) се формира през ранната креда (преди 140 милиона години), като вероятно произлиза от семейство Aegialodontidae. ', -11.183146238327026), ('Един от четирите оцелели представители на разред Еднопроходни, като видовете от този разред са единствените бозайници, които дават потомство, като снасят яйца. ', -12.206711402306189), ('Най-примитивната съвременна група бозайници са еднопроходните (Monotremata), които запазват някои белези на цинодонтите, като структурата на посткраниалния скелет и репродуктивната система. ', -12.323878765106201), ('Размерите на бозайниците варират значително, като най-дребният вид е етруската белозъбка (Suncus etruscus) с дължина до 48 mm и маса до 2,34 g, а най-едрият\\xa0– синият кит (Balaenoptera musculus) достигащ 33 m дължина и 150 t маса.', -12.496376832326254), ('Ендемит на територията на Австралия, като се среща само в източната част на континента. ', -12.530956268310547), ('Всичко това улеснява приспособителните реакции и дава възможност на бозайниците да населяват най-различни биотопи\\xa0– на земната повърхност (лъв, заек), в земята (къртици), във водата (делфини, китове) и във въздуха (прилепи).', -12.79481315612793), ('Първите истински бозайници се появяват през ранната юра (преди 190 милиона години). ', -12.98882007598877)]\n"
     ]
    }
   ],
   "source": [
    "qa = QA()\n",
    "ans = qa.query_adv_emb_match(\"Къде най-често се срещат бозайници\", [article1, article2], [1, 1])\n",
    "print(ans)"
   ]
  },
  {
   "cell_type": "code",
   "execution_count": null,
   "metadata": {},
   "outputs": [],
   "source": []
  }
 ],
 "metadata": {
  "kernelspec": {
   "display_name": "Python 3",
   "language": "python",
   "name": "python3"
  },
  "language_info": {
   "codemirror_mode": {
    "name": "ipython",
    "version": 3
   },
   "file_extension": ".py",
   "mimetype": "text/x-python",
   "name": "python",
   "nbconvert_exporter": "python",
   "pygments_lexer": "ipython3",
   "version": "3.7.5"
  }
 },
 "nbformat": 4,
 "nbformat_minor": 4
}
